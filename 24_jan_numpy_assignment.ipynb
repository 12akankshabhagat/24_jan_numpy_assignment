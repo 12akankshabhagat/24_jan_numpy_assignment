{
 "cells": [
  {
   "cell_type": "markdown",
   "id": "e107e7c5-f5ea-4512-ae3a-ed52d8fea927",
   "metadata": {},
   "source": [
    "# Numpy Assignment Questions"
   ]
  },
  {
   "cell_type": "markdown",
   "id": "bcae1e36-508f-4514-9438-d9c56b7e5e58",
   "metadata": {},
   "source": [
    "## 1. What is a Python library? Why do we use Python libraries?"
   ]
  },
  {
   "cell_type": "code",
   "execution_count": 1,
   "id": "db985e76-20a1-43e8-81ef-5be761366531",
   "metadata": {},
   "outputs": [
    {
     "data": {
      "text/plain": [
       "'\\n### python : A Python library is a collection of pre-written code, that  can import into Python programs to perform common tasks. \\n           These libraries encapsulate functions, classes, and modules that offer a range of functionalities, from simple operations to \\n           complex processes, making development more efficient and less error-prone.\\n\\n\\n### Why Do We Use Python Libraries?\\n# Libraries are optimized for performance, meaning that they can often execute tasks faster and more efficiently than custom code.\\n\\n# Libraries follow standard practices and are often maintained by experienced developers. This ensures that the code is robust and \\n  adheres to best practices.\\n    \\n# Libraries provide reusable code, which helps in avoiding the need to write common functions from scratch. This saves time and effort.\\n\\n# They provide high-level functions and abstractions, simplifying complex tasks. For instance, libraries like pandas make data manipulation\\n  easier.\\n  \\n# Libraries are often tailored for specific purposes. For example, NumPy is great for numerical computations, matplotlib for plotting, \\n and requests for handling HTTP requests.\\n \\n \\n### example :\\nNumPy: For numerical computations.\\nPandas: For data manipulation and analysis.\\nMatplotlib: For plotting and visualization.\\nRequests: For making HTTP requests.\\nTensorFlow: For machine learning and deep learning.\\nFlask/Django: For web development.\\nSciPy: For scientific and technical computing.\\n\\nUsing these libraries allows developers to leverage the extensive work already done by others, thereby improving productivity and \\nensuring code quality.     '"
      ]
     },
     "execution_count": 1,
     "metadata": {},
     "output_type": "execute_result"
    }
   ],
   "source": [
    "'''\n",
    "### python : A Python library is a collection of pre-written code, that  can import into Python programs to perform common tasks. \n",
    "           These libraries encapsulate functions, classes, and modules that offer a range of functionalities, from simple operations to \n",
    "           complex processes, making development more efficient and less error-prone.\n",
    "\n",
    "\n",
    "### Why Do We Use Python Libraries?\n",
    "# Libraries are optimized for performance, meaning that they can often execute tasks faster and more efficiently than custom code.\n",
    "\n",
    "# Libraries follow standard practices and are often maintained by experienced developers. This ensures that the code is robust and \n",
    "  adheres to best practices.\n",
    "    \n",
    "# Libraries provide reusable code, which helps in avoiding the need to write common functions from scratch. This saves time and effort.\n",
    "\n",
    "# They provide high-level functions and abstractions, simplifying complex tasks. For instance, libraries like pandas make data manipulation\n",
    "  easier.\n",
    "  \n",
    "# Libraries are often tailored for specific purposes. For example, NumPy is great for numerical computations, matplotlib for plotting, \n",
    " and requests for handling HTTP requests.\n",
    " \n",
    " \n",
    "### example :\n",
    "NumPy: For numerical computations.\n",
    "Pandas: For data manipulation and analysis.\n",
    "Matplotlib: For plotting and visualization.\n",
    "Requests: For making HTTP requests.\n",
    "TensorFlow: For machine learning and deep learning.\n",
    "Flask/Django: For web development.\n",
    "SciPy: For scientific and technical computing.\n",
    "\n",
    "Using these libraries allows developers to leverage the extensive work already done by others, thereby improving productivity and \n",
    "ensuring code quality.     '''"
   ]
  },
  {
   "cell_type": "code",
   "execution_count": null,
   "id": "c57a4ba1-8c86-4793-a114-9ca1bd6c3f6a",
   "metadata": {},
   "outputs": [],
   "source": []
  },
  {
   "cell_type": "markdown",
   "id": "956cac6c-9902-4c74-a5c8-1cffb155d63c",
   "metadata": {},
   "source": [
    "## 2. What is the difference between Numpy array and List?"
   ]
  },
  {
   "cell_type": "code",
   "execution_count": 2,
   "id": "ff3c4a78-26e1-4336-be11-98baefb6fdf0",
   "metadata": {},
   "outputs": [
    {
     "data": {
      "text/plain": [
       "'\\nThe main difference between a NumPy array and a list in Python lies in their performance, homogeneity, and memory management.\\nHere are the key differences:\\n\\n# Performance:\\nNumPy arrays are faster than lists, especially when performing operations like calculating mean or sum, which are much faster on \\nNumPy arrays.\\n\\n# Homogeneity:\\nNumPy arrays have strict requirements on the homogeneity of the objects they contain, meaning they can only store elements of the same type.\\nLists, on the other hand, can hold elements of varying data types(hytrogenous data), such as integers, floating-point numbers, strings,\\nboolean values, or dictionaries.\\n\\n# Memory Management: \\nNumPy arrays store elements in adjacent memory locations, reducing fragmentation and allowing for efficient access.\\nLists, however, store additional information about each element, such as its type and reference count, which can lead to significant \\noverhead when dealing with a large number of elements.\\n\\n# Creation: \\nLists are built-in data structures in Python, while NumPy arrays require importing the NumPy library.\\n'"
      ]
     },
     "execution_count": 2,
     "metadata": {},
     "output_type": "execute_result"
    }
   ],
   "source": [
    "'''\n",
    "The main difference between a NumPy array and a list in Python lies in their performance, homogeneity, and memory management.\n",
    "Here are the key differences:\n",
    "\n",
    "# Performance:\n",
    "NumPy arrays are faster than lists, especially when performing operations like calculating mean or sum, which are much faster on \n",
    "NumPy arrays.\n",
    "\n",
    "# Homogeneity:\n",
    "NumPy arrays have strict requirements on the homogeneity of the objects they contain, meaning they can only store elements of the same type.\n",
    "Lists, on the other hand, can hold elements of varying data types(hytrogenous data), such as integers, floating-point numbers, strings,\n",
    "boolean values, or dictionaries.\n",
    "\n",
    "# Memory Management: \n",
    "NumPy arrays store elements in adjacent memory locations, reducing fragmentation and allowing for efficient access.\n",
    "Lists, however, store additional information about each element, such as its type and reference count, which can lead to significant \n",
    "overhead when dealing with a large number of elements.\n",
    "\n",
    "# Creation: \n",
    "Lists are built-in data structures in Python, while NumPy arrays require importing the NumPy library.\n",
    "'''"
   ]
  },
  {
   "cell_type": "code",
   "execution_count": null,
   "id": "64cd8c13-7d51-46e4-b37e-a0324ee33519",
   "metadata": {},
   "outputs": [],
   "source": []
  },
  {
   "cell_type": "markdown",
   "id": "ec3c451d-6085-4c8f-98c8-f5281e32b107",
   "metadata": {},
   "source": [
    "## 3.Find the shape, size and dimension of the following array?\n",
    "\n",
    "[[1, 2, 3, 4]\n",
    "\n",
    "[5, 6, 7, 8],\n",
    "\n",
    "[9, 10, 11, 12]]\n",
    "\n"
   ]
  },
  {
   "cell_type": "code",
   "execution_count": 3,
   "id": "d8a1f7f2-f58d-4c50-8ce1-0d145df31420",
   "metadata": {},
   "outputs": [
    {
     "name": "stdout",
     "output_type": "stream",
     "text": [
      "Shape of the array: (3, 4)\n",
      "Size of the array: 12\n",
      "Dimension of the array: 2\n"
     ]
    }
   ],
   "source": [
    "import numpy as np\n",
    "\n",
    "arr = np.array([[1, 2, 3, 4],\n",
    "[5, 6, 7, 8],\n",
    "[9, 10, 11, 12]])\n",
    "\n",
    "print(\"Shape of the array:\", arr.shape)\n",
    "print(\"Size of the array:\",arr.size)\n",
    "print(\"Dimension of the array:\", arr.ndim)"
   ]
  },
  {
   "cell_type": "code",
   "execution_count": null,
   "id": "79808e2e-1397-4551-a156-69acf12cf3cb",
   "metadata": {},
   "outputs": [],
   "source": []
  },
  {
   "cell_type": "markdown",
   "id": "4d8ddd5a-6bdb-4bdd-aa8c-783acc4da744",
   "metadata": {},
   "source": [
    "## 4. Write python code to access the first row of the following array?\n",
    "\n",
    "[[1, 2, 3, 4]\n",
    "\n",
    "[5, 6, 7, 8],\n",
    "\n",
    "[9, 10, 11, 12]]"
   ]
  },
  {
   "cell_type": "code",
   "execution_count": 4,
   "id": "ad94f845-2e0d-4ed7-87e1-5ac9e9c1beaf",
   "metadata": {},
   "outputs": [
    {
     "name": "stdout",
     "output_type": "stream",
     "text": [
      "First row: [1 2 3 4]\n"
     ]
    }
   ],
   "source": [
    "import numpy as np\n",
    "\n",
    "arr = np.array([[1, 2, 3, 4],\n",
    "[5, 6, 7, 8],\n",
    "[9, 10, 11, 12]])\n",
    "\n",
    "first_row = arr[0]\n",
    "\n",
    "print(\"First row:\",first_row)"
   ]
  },
  {
   "cell_type": "code",
   "execution_count": null,
   "id": "aaf404d7-2331-4372-a005-07ed213afa33",
   "metadata": {},
   "outputs": [],
   "source": []
  },
  {
   "cell_type": "markdown",
   "id": "21fdd55e-70c6-4a93-bc0d-095be046140d",
   "metadata": {},
   "source": [
    "## 5. How do you access the element at the third row and fourth column from the given numpy array?\n",
    "\n",
    "[[1, 2, 3, 4]\n",
    "\n",
    "[5, 6, 7, 8],\n",
    "\n",
    "[9, 10, 11, 12]]"
   ]
  },
  {
   "cell_type": "code",
   "execution_count": 5,
   "id": "7d141ae5-ee2a-44f4-8244-02ad738fb257",
   "metadata": {},
   "outputs": [
    {
     "name": "stdout",
     "output_type": "stream",
     "text": [
      "\n",
      "Element at third row and fourth column: 12\n"
     ]
    }
   ],
   "source": [
    "import numpy as np\n",
    "\n",
    "arr = np.array([[1, 2, 3, 4], [5, 6, 7, 8], [9, 10, 11, 12]])\n",
    "\n",
    "required_ele = arr[2][3]\n",
    "\n",
    "print(\"\\nElement at third row and fourth column:\", required_ele)"
   ]
  },
  {
   "cell_type": "code",
   "execution_count": null,
   "id": "572b3f6f-ba5c-4bb0-b63b-63d2b8c82b27",
   "metadata": {},
   "outputs": [],
   "source": []
  },
  {
   "cell_type": "markdown",
   "id": "546f74b2-73bf-46f9-8689-48a9821ffe6a",
   "metadata": {},
   "source": [
    "## 6. Write code to extract all odd-indexed  elements from the given numpy array?\n",
    "[[1, 2, 3, 4]\n",
    "[5, 6, 7, 8],\n",
    "[9, 10, 11, 12]]"
   ]
  },
  {
   "cell_type": "code",
   "execution_count": 6,
   "id": "3f2daddd-cdf8-4e8f-ad0a-17a83ce195e9",
   "metadata": {},
   "outputs": [
    {
     "name": "stdout",
     "output_type": "stream",
     "text": [
      "Original array:\n",
      " [[ 1  2  3  4]\n",
      " [ 5  6  7  8]\n",
      " [ 9 10 11 12]]\n",
      "\n",
      "Odd indexed elements: [ 2  4  6  8 10 12]\n"
     ]
    }
   ],
   "source": [
    "import numpy as np\n",
    "\n",
    "arr = np.array([[1, 2, 3, 4], [5, 6, 7, 8], [9, 10, 11, 12]])\n",
    "\n",
    "odd_indexed_ele = arr[:,1::2].flatten() #To convert into single dimentional array\n",
    "    \n",
    "\n",
    "print(\"Original array:\\n\",arr)\n",
    "print(\"\\nOdd indexed elements:\", odd_indexed_ele)"
   ]
  },
  {
   "cell_type": "code",
   "execution_count": null,
   "id": "c8b94db0-5936-4f6d-b95f-506971750ac8",
   "metadata": {},
   "outputs": [],
   "source": []
  },
  {
   "cell_type": "markdown",
   "id": "f317039e-4703-4288-a176-438eaa5ff668",
   "metadata": {},
   "source": [
    "## 7. How can you generate a random 3x3 matrix with values between 0 and 1?"
   ]
  },
  {
   "cell_type": "code",
   "execution_count": 7,
   "id": "d2bf414e-10e9-4937-bbd3-c25755543d39",
   "metadata": {},
   "outputs": [
    {
     "name": "stdout",
     "output_type": "stream",
     "text": [
      "[[0.69217986 0.13867649 0.48201604]\n",
      " [0.71265898 0.31878467 0.28973361]\n",
      " [0.58539753 0.86062164 0.61944293]]\n"
     ]
    }
   ],
   "source": [
    "import numpy as np\n",
    "\n",
    "# Generate a random 3x3 matrix with values between 0 and 1\n",
    "random_matrix = np.random.rand(3, 3)\n",
    "\n",
    "print(random_matrix)\n"
   ]
  },
  {
   "cell_type": "code",
   "execution_count": null,
   "id": "af2a9177-4c3f-4ba2-b01a-953b5a3bfaf4",
   "metadata": {},
   "outputs": [],
   "source": []
  },
  {
   "cell_type": "markdown",
   "id": "0954d080-dbba-42c5-a2b4-0b12efeeba57",
   "metadata": {},
   "source": [
    "## 8. Describe the difference between np.random.rand and np.random.randn?"
   ]
  },
  {
   "cell_type": "code",
   "execution_count": 8,
   "id": "6e559fa1-a9f8-46a5-b48c-a0403fbc3cbb",
   "metadata": {},
   "outputs": [
    {
     "name": "stdout",
     "output_type": "stream",
     "text": [
      "[[0.78476065 0.79392581]\n",
      " [0.42891302 0.25092354]\n",
      " [0.80340324 0.77845687]]\n"
     ]
    }
   ],
   "source": [
    "\n",
    "## difference between np.random.rand and np.random.randn\n",
    "'''\n",
    "1 np.random.rand\n",
    " Generates random numbers from a uniform distribution.\n",
    " \n",
    " The values are uniformly distributed over the interval 0 and 1 .\n",
    " \n",
    " Typically used when you need random numbers within a specific range with equal probability.'''\n",
    "\n",
    "# example\n",
    "import numpy as np\n",
    "random_numbers = np.random.rand(3, 2)  # Generates a 3x2 array of random numbers from a uniform distribution.\n",
    "print(random_numbers)"
   ]
  },
  {
   "cell_type": "code",
   "execution_count": 9,
   "id": "a46bebc5-722b-447a-b399-709b9a3946a3",
   "metadata": {},
   "outputs": [
    {
     "name": "stdout",
     "output_type": "stream",
     "text": [
      "[[-0.36460039  0.11447119]\n",
      " [-0.9495613   0.80118732]\n",
      " [ 1.1831438   1.82349104]]\n"
     ]
    }
   ],
   "source": [
    "## np.random.randn\n",
    "''' \n",
    "Generates random numbers from a normal (Gaussian) distribution.\n",
    "    \n",
    "Standard normal distribution with a mean of 0 and a standard deviation of 1. This implies that the numbers are distributed in a bell curve \n",
    "centered around 0.\n",
    "    \n",
    "np.random.randn(d0, d1, ..., dn) where the arguments specify the dimensions of the output array.'''\n",
    "\n",
    "# example:\n",
    "import numpy as np\n",
    "random_numbers = np.random.randn(3, 2)  # Generates a 3x2 array of random numbers from a standard normal distribution.\n",
    "print(random_numbers)"
   ]
  },
  {
   "cell_type": "code",
   "execution_count": null,
   "id": "5ef38613-62d9-4011-9a49-75aa6b12397b",
   "metadata": {},
   "outputs": [],
   "source": []
  },
  {
   "cell_type": "code",
   "execution_count": null,
   "id": "300c146b-4a90-4179-9d8e-fc953e88f81f",
   "metadata": {},
   "outputs": [],
   "source": []
  },
  {
   "cell_type": "markdown",
   "id": "63e3a287-a350-472c-b663-d25500045bf7",
   "metadata": {},
   "source": [
    "## 9. Write code to increase the dimension of the following array?\n",
    "[[1, 2, 3, 4]\n",
    "[5, 6, 7, 8],\n",
    "[9, 10, 11, 12]]"
   ]
  },
  {
   "cell_type": "code",
   "execution_count": 10,
   "id": "c4edba04-4510-480b-bf72-6eace9357034",
   "metadata": {},
   "outputs": [
    {
     "name": "stdout",
     "output_type": "stream",
     "text": [
      "Original array:\n",
      " [[ 1  2  3  4]\n",
      " [ 5  6  7  8]\n",
      " [ 9 10 11 12]]\n",
      "original dimention: 2\n",
      "\n",
      "Array with increased dimension:\n",
      " [[[ 1  2  3  4]]\n",
      "\n",
      " [[ 5  6  7  8]]\n",
      "\n",
      " [[ 9 10 11 12]]]\n",
      "Now dimention becomes: 3\n"
     ]
    }
   ],
   "source": [
    "import numpy as np\n",
    "\n",
    "arr = np.array([[1, 2, 3, 4], [5, 6, 7, 8], [9, 10, 11, 12]])\n",
    "\n",
    "print(\"Original array:\\n\",arr)\n",
    "print(\"original dimention:\",arr.ndim)\n",
    "\n",
    "new_arr = np.expand_dims(arr,axis = 1)\n",
    "\n",
    "print(\"\\nArray with increased dimension:\\n\",new_arr)\n",
    "print(\"Now dimention becomes:\",new_arr.ndim)"
   ]
  },
  {
   "cell_type": "code",
   "execution_count": null,
   "id": "8b270aa6-39a1-44bf-a64d-4d1e15763a8a",
   "metadata": {},
   "outputs": [],
   "source": []
  },
  {
   "cell_type": "code",
   "execution_count": null,
   "id": "b12e6344-3907-4fe2-a39d-ea712f7fbef2",
   "metadata": {},
   "outputs": [],
   "source": []
  },
  {
   "cell_type": "markdown",
   "id": "19929df9-031c-4239-a757-243d84a9cc8b",
   "metadata": {},
   "source": [
    "## 10. How to transpose the following array in NumPy?\n",
    "  [[1, 2, 3, 4]\n",
    "  [5, 6, 7, 8],\n",
    "  [9, 10, 11, 12]]"
   ]
  },
  {
   "cell_type": "code",
   "execution_count": 11,
   "id": "92a9fcf5-06e5-4dcd-9fd9-78fee71ba558",
   "metadata": {},
   "outputs": [
    {
     "name": "stdout",
     "output_type": "stream",
     "text": [
      "Original array:\n",
      " [[ 1  2  3  4]\n",
      " [ 5  6  7  8]\n",
      " [ 9 10 11 12]]\n",
      "\n",
      "Transposed array:\n",
      " [[ 1  5  9]\n",
      " [ 2  6 10]\n",
      " [ 3  7 11]\n",
      " [ 4  8 12]]\n"
     ]
    }
   ],
   "source": [
    "import numpy as np\n",
    "\n",
    "arr = np.array([[1, 2, 3, 4], [5, 6, 7, 8], [9, 10, 11, 12]])\n",
    "print(\"Original array:\\n\",arr)\n",
    "tranposed_arr = arr.T\n",
    "print(\"\\nTransposed array:\\n\",arr.T)"
   ]
  },
  {
   "cell_type": "code",
   "execution_count": null,
   "id": "7ab2b6ff-fc88-4273-b547-78e4a7b536e7",
   "metadata": {},
   "outputs": [],
   "source": []
  },
  {
   "cell_type": "markdown",
   "id": "d5f15e4b-f580-4a67-95ad-302f14fa3b47",
   "metadata": {},
   "source": [
    "### 11. Consider the following matrix:\n",
    "### Matrix A2 [[1, 2, 3, 4] [5, 6, 7, 8],[9, 10, 11, 12]]\n",
    "### Matrix B2 [[1, 2, 3, 4] [5, 6, 7, 8],[9, 10, 11, 12]]\n",
    "### Perform the following operation using Python:\n",
    "1. index wise multiplication\n",
    "2. matrix multiplication\n",
    "3. add both matrics\n",
    "4. subtract matrix B from A\n",
    "5. divide matrix B by A"
   ]
  },
  {
   "cell_type": "code",
   "execution_count": 12,
   "id": "ea1882bd-5dd7-4b43-8b94-83eaeeb6680e",
   "metadata": {},
   "outputs": [
    {
     "name": "stdout",
     "output_type": "stream",
     "text": [
      "Matrix A:\n",
      " [[ 1  2  3  4]\n",
      " [ 5  6  7  8]\n",
      " [ 9 10 11 12]]\n",
      "\n",
      "Matrix B:\n",
      " [[ 1  2  3  4]\n",
      " [ 5  6  7  8]\n",
      " [ 9 10 11 12]]\n"
     ]
    }
   ],
   "source": [
    "import numpy as np\n",
    "matrix_a = np.array([[1, 2, 3, 4], [5, 6, 7, 8],[9, 10, 11, 12]])\n",
    "matrix_b = np.array([[1, 2, 3, 4], [5, 6, 7, 8],[9, 10, 11, 12]])\n",
    "print(\"Matrix A:\\n\",matrix_a)\n",
    "print(\"\\nMatrix B:\\n\",matrix_b)\n"
   ]
  },
  {
   "cell_type": "code",
   "execution_count": 13,
   "id": "77bedfaf-8ac3-485a-b1cd-95fb92b0a599",
   "metadata": {},
   "outputs": [
    {
     "name": "stdout",
     "output_type": "stream",
     "text": [
      "\n",
      "Indexwise multiplication:\n",
      " [[  1   4   9  16]\n",
      " [ 25  36  49  64]\n",
      " [ 81 100 121 144]]\n"
     ]
    }
   ],
   "source": [
    "##1. Index wise multiplication\n",
    "print(\"\\nIndexwise multiplication:\\n\",matrix_a * matrix_b)\n"
   ]
  },
  {
   "cell_type": "code",
   "execution_count": 14,
   "id": "a68c03d1-d4d3-458b-86e6-b276ee2fdd2d",
   "metadata": {},
   "outputs": [
    {
     "name": "stdout",
     "output_type": "stream",
     "text": [
      "\n",
      "Matrix multiplication:\n",
      " [[ 30  70 110]\n",
      " [ 70 174 278]\n",
      " [110 278 446]]\n"
     ]
    }
   ],
   "source": [
    "##2. Matrix multiplication\n",
    "print(\"\\nMatrix multiplication:\\n\",matrix_a @ matrix_b.T)"
   ]
  },
  {
   "cell_type": "code",
   "execution_count": 15,
   "id": "f5267257-c740-4654-887a-092f683a16f1",
   "metadata": {},
   "outputs": [
    {
     "name": "stdout",
     "output_type": "stream",
     "text": [
      "\n",
      "Addition of both the matrix:\n",
      " [[ 2  4  6  8]\n",
      " [10 12 14 16]\n",
      " [18 20 22 24]]\n"
     ]
    }
   ],
   "source": [
    "##3. Addition of both the matrix\n",
    "print(\"\\nAddition of both the matrix:\\n\",matrix_a + matrix_b)"
   ]
  },
  {
   "cell_type": "code",
   "execution_count": 16,
   "id": "75ed1fc6-ef7c-4b34-a021-52aea67e25eb",
   "metadata": {},
   "outputs": [
    {
     "name": "stdout",
     "output_type": "stream",
     "text": [
      "\n",
      "Subtraction of matrix b from matrix A:\n",
      " [[0 0 0 0]\n",
      " [0 0 0 0]\n",
      " [0 0 0 0]]\n"
     ]
    }
   ],
   "source": [
    "##4. Subtraction of matrix B from matrix A\n",
    "print(\"\\nSubtraction of matrix b from matrix A:\\n\",matrix_a - matrix_b)\n"
   ]
  },
  {
   "cell_type": "code",
   "execution_count": 17,
   "id": "a7cb0dba-361b-4187-9cb8-8c6800a4bba0",
   "metadata": {},
   "outputs": [
    {
     "name": "stdout",
     "output_type": "stream",
     "text": [
      "\n",
      "Division of matrix B by matrix A:\n",
      " [[1. 1. 1. 1.]\n",
      " [1. 1. 1. 1.]\n",
      " [1. 1. 1. 1.]]\n"
     ]
    }
   ],
   "source": [
    "##5. Division of matrix B by A\n",
    "print(\"\\nDivision of matrix B by matrix A:\\n\",matrix_b/matrix_a)"
   ]
  },
  {
   "cell_type": "code",
   "execution_count": null,
   "id": "4fdbecd4-4cdb-43e6-a2dd-b53b19a72a26",
   "metadata": {},
   "outputs": [],
   "source": []
  },
  {
   "cell_type": "code",
   "execution_count": null,
   "id": "c0120322-990c-4958-a26d-9b6a18014da6",
   "metadata": {},
   "outputs": [],
   "source": []
  },
  {
   "cell_type": "code",
   "execution_count": null,
   "id": "6e07fcf8-9bbb-49e4-b0c6-2c63a9dc509e",
   "metadata": {},
   "outputs": [],
   "source": []
  },
  {
   "cell_type": "markdown",
   "id": "7c2e92e6-5482-4442-a3c1-57a6a93f6434",
   "metadata": {},
   "source": [
    "## 12. Which function in Numpy can be used to swap the byte order of an array?"
   ]
  },
  {
   "cell_type": "code",
   "execution_count": 18,
   "id": "e0407e65-8c69-4e6c-8cc0-3cf72200e8ce",
   "metadata": {},
   "outputs": [
    {
     "name": "stdout",
     "output_type": "stream",
     "text": [
      "Original array:\n",
      " [ 11  12 123  14]\n",
      "\n",
      "Array after byte swapping:\n",
      " [ 184549376  201326592 2063597568  234881024]\n"
     ]
    }
   ],
   "source": [
    "import numpy as np\n",
    "\n",
    "# Create an array with a specific byte order\n",
    "original_array = np.array([11,12,123,14], dtype='>i4')  # '>i4' represents big-endian 32-bit integer\n",
    "\n",
    "# Print the original array\n",
    "print(\"Original array:\\n\", original_array)\n",
    "\n",
    "# Swap the byte order\n",
    "swapped_array = original_array.byteswap()\n",
    "\n",
    "# Print the array after byte swapping\n",
    "print(\"\\nArray after byte swapping:\\n\", swapped_array)"
   ]
  },
  {
   "cell_type": "code",
   "execution_count": null,
   "id": "c54f1e7e-08a8-4fa1-a39f-d9fc1294105d",
   "metadata": {},
   "outputs": [],
   "source": []
  },
  {
   "cell_type": "markdown",
   "id": "783ea71a-b586-491e-98d1-c137b70cab14",
   "metadata": {},
   "source": [
    "## 13. What is the significance of the np.linalg.inv function?"
   ]
  },
  {
   "cell_type": "code",
   "execution_count": 19,
   "id": "1e456c7e-6312-4d01-8eca-fa29d3a894dd",
   "metadata": {},
   "outputs": [
    {
     "data": {
      "text/plain": [
       "'The np.linalg.inv function in NumPy is used to compute the (multiplicative) inverse of a square matrix(with non-zero determinant).\\nThe result of this function is another matrix, known as the inverse matrix, which, when multiplied by the original matrix, \\nresults in the identity matrix.\\n\\nFor a given square matrix A , if A^-1 is the inverse of A , then the following relationship holds:\\n\\nA . A^-1 = A^-1 . A = I\\n\\nwhere I is the identity matrix.\\n\\nThe significance of np.linalg.inv lies in its applications, such as:\\n\\n# Solving Linear Systems of Equations:\\nGiven a linear system of equations Ax = B , where A is a coefficient matrix, x is the column vector of variables, and B is the column vector\\non the right-hand side, the solution can be found as x = A^-1B.\\n\\n# Eigenvalue Problems:\\nIn eigenvalue problems, the inverse of a matrix is often used. For a square matrix A and its eigenvector matrix V(columns are eigenvectors),\\nthe inverse A^-1 is used in the relationship V^-1AV = Λ, where ( Λ) is a diagonal matrix of eigenvalues.'"
      ]
     },
     "execution_count": 19,
     "metadata": {},
     "output_type": "execute_result"
    }
   ],
   "source": [
    "'''The np.linalg.inv function in NumPy is used to compute the (multiplicative) inverse of a square matrix(with non-zero determinant).\n",
    "The result of this function is another matrix, known as the inverse matrix, which, when multiplied by the original matrix, \n",
    "results in the identity matrix.\n",
    "\n",
    "For a given square matrix A , if A^-1 is the inverse of A , then the following relationship holds:\n",
    "\n",
    "A . A^-1 = A^-1 . A = I\n",
    "\n",
    "where I is the identity matrix.\n",
    "\n",
    "The significance of np.linalg.inv lies in its applications, such as:\n",
    "\n",
    "# Solving Linear Systems of Equations:\n",
    "Given a linear system of equations Ax = B , where A is a coefficient matrix, x is the column vector of variables, and B is the column vector\n",
    "on the right-hand side, the solution can be found as x = A^-1B.\n",
    "\n",
    "# Eigenvalue Problems:\n",
    "In eigenvalue problems, the inverse of a matrix is often used. For a square matrix A and its eigenvector matrix V(columns are eigenvectors),\n",
    "the inverse A^-1 is used in the relationship V^-1AV = Λ, where ( Λ) is a diagonal matrix of eigenvalues.'''"
   ]
  },
  {
   "cell_type": "code",
   "execution_count": null,
   "id": "5337e479-3f22-4371-bfbe-bbc2a5a284f0",
   "metadata": {},
   "outputs": [],
   "source": []
  },
  {
   "cell_type": "markdown",
   "id": "4ccdd78c-0229-43ea-9ba8-392c5cb44d44",
   "metadata": {},
   "source": [
    "## 14. What does the np.reshape function do, and how is it used?"
   ]
  },
  {
   "cell_type": "code",
   "execution_count": 20,
   "id": "7db312cb-a65a-47ec-a9cf-ecb5d10a4d75",
   "metadata": {},
   "outputs": [
    {
     "name": "stdout",
     "output_type": "stream",
     "text": [
      "Original Array:\n",
      "[1 2 3 4 5 6]\n",
      "Reshaped Array:\n",
      "[[1 2 3]\n",
      " [4 5 6]]\n"
     ]
    }
   ],
   "source": [
    "'''The np.reshape function in NumPy is used to give a new shape to an array without changing its data. This function is essential\n",
    "when you need to organize the data in an array into a different shape, which is a common operation in data manipulation and \n",
    "preprocessing tasks.'''\n",
    "\n",
    "\n",
    "import numpy as np\n",
    "\n",
    "# Create a 1D array\n",
    "array = np.array([1, 2, 3, 4, 5, 6])\n",
    "\n",
    "# Reshape the array into a 2x3 matrix\n",
    "reshaped_array = np.reshape(array, (2, 3))\n",
    "print(\"Original Array:\")\n",
    "print(array)\n",
    "print(\"Reshaped Array:\")\n",
    "print(reshaped_array)\n"
   ]
  },
  {
   "cell_type": "code",
   "execution_count": null,
   "id": "e8c2c354-19df-443d-9ce7-86efa17a7ae3",
   "metadata": {},
   "outputs": [],
   "source": []
  },
  {
   "cell_type": "markdown",
   "id": "a5eef87d-1514-4ca8-a74c-60eaa38fe9c3",
   "metadata": {},
   "source": [
    "## 15. What is broadcasting in Numpy?"
   ]
  },
  {
   "cell_type": "code",
   "execution_count": 21,
   "id": "a20f5e55-96d5-4992-8617-937b5fa1d5e7",
   "metadata": {},
   "outputs": [
    {
     "name": "stdout",
     "output_type": "stream",
     "text": [
      "[[11 22 33]\n",
      " [14 25 36]]\n"
     ]
    }
   ],
   "source": [
    "'''Broadcasting in NumPy is a powerful mechanism that allows NumPy to perform arithmetic operations on arrays of different shapes in a way that \n",
    "avoids making unnecessary copies of data. Broadcasting essentially \"stretches\" the smaller array across the larger array so that they have compatible \n",
    "shapes for element-wise operations.'''\n",
    "\n",
    "# example\n",
    "# 2D array\n",
    "array_2d = np.array([[1, 2, 3], [4, 5, 6]])\n",
    "\n",
    "# 1D array\n",
    "array_1d = np.array([10, 20, 30])\n",
    "\n",
    "# Broadcasting the 1D array across the 2D array\n",
    "result = array_2d + array_1d\n",
    "print(result)  "
   ]
  },
  {
   "cell_type": "code",
   "execution_count": null,
   "id": "c52ede1c-4ace-404e-b9dc-9a7b6cd934fa",
   "metadata": {},
   "outputs": [],
   "source": []
  },
  {
   "cell_type": "code",
   "execution_count": null,
   "id": "1d750fa0-8340-46c6-999b-c7950e6286c8",
   "metadata": {},
   "outputs": [],
   "source": []
  }
 ],
 "metadata": {
  "kernelspec": {
   "display_name": "Python 3 (ipykernel)",
   "language": "python",
   "name": "python3"
  },
  "language_info": {
   "codemirror_mode": {
    "name": "ipython",
    "version": 3
   },
   "file_extension": ".py",
   "mimetype": "text/x-python",
   "name": "python",
   "nbconvert_exporter": "python",
   "pygments_lexer": "ipython3",
   "version": "3.10.8"
  }
 },
 "nbformat": 4,
 "nbformat_minor": 5
}
